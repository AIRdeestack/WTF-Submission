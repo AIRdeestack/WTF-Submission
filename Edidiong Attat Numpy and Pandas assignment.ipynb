{
 "cells": [
  {
   "cell_type": "markdown",
   "id": "fcafcb15",
   "metadata": {},
   "source": [
    "Built in functions in numpy with examples"
   ]
  },
  {
   "cell_type": "code",
   "execution_count": 1,
   "id": "47e0d006",
   "metadata": {},
   "outputs": [
    {
     "name": "stdout",
     "output_type": "stream",
     "text": [
      "[3 5 6 7 8]\n"
     ]
    }
   ],
   "source": [
    "#1. Numpy N dimension array(NDarray): A fixed size multidimensional contaner of simmilar size items\n",
    "import numpy as np\n",
    "a = np.array([3,5,6,7,8,])\n",
    "print (a)"
   ]
  },
  {
   "cell_type": "code",
   "execution_count": 2,
   "id": "4d301f1a",
   "metadata": {},
   "outputs": [
    {
     "name": "stdout",
     "output_type": "stream",
     "text": [
      "int32\n"
     ]
    }
   ],
   "source": [
    "#2. Data type objects(np.dtype): describes how the bytes in the fixed-size block of memory corresponding to an array item should be interpreted\n",
    "a = np.array([3,5,6,7,8,])\n",
    "print (a.dtype)"
   ]
  },
  {
   "cell_type": "raw",
   "id": "88063f96",
   "metadata": {},
   "source": []
  },
  {
   "cell_type": "code",
   "execution_count": 5,
   "id": "883d571e",
   "metadata": {},
   "outputs": [
    {
     "ename": "NameError",
     "evalue": "name 'char' is not defined",
     "output_type": "error",
     "traceback": [
      "\u001b[1;31m---------------------------------------------------------------------------\u001b[0m",
      "\u001b[1;31mNameError\u001b[0m                                 Traceback (most recent call last)",
      "Input \u001b[1;32mIn [5]\u001b[0m, in \u001b[0;36m<cell line: 4>\u001b[1;34m()\u001b[0m\n\u001b[0;32m      2\u001b[0m a \u001b[38;5;241m=\u001b[39m np\u001b[38;5;241m.\u001b[39marray([\u001b[38;5;241m3\u001b[39m,\u001b[38;5;241m5\u001b[39m,\u001b[38;5;241m6\u001b[39m,\u001b[38;5;241m7\u001b[39m,\u001b[38;5;241m8\u001b[39m,])\n\u001b[0;32m      3\u001b[0m b\u001b[38;5;241m=\u001b[39m np\u001b[38;5;241m.\u001b[39marray([\u001b[38;5;241m5\u001b[39m,\u001b[38;5;241m6\u001b[39m,\u001b[38;5;241m8\u001b[39m,\u001b[38;5;241m8\u001b[39m,\u001b[38;5;241m5\u001b[39m])\n\u001b[1;32m----> 4\u001b[0m \u001b[43mchar\u001b[49m\u001b[38;5;241m.\u001b[39madd(a,b)\n",
      "\u001b[1;31mNameError\u001b[0m: name 'char' is not defined"
     ]
    }
   ],
   "source": [
    "#3. Add\n",
    "a = np.array(['ben','sarah','okon','precious'])\n",
    "b= np.array(['edidiong','6',8,8,5])\n",
    "char \n",
    "char.add(a,b)"
   ]
  },
  {
   "cell_type": "code",
   "execution_count": 3,
   "id": "6eb06732",
   "metadata": {},
   "outputs": [
    {
     "name": "stdout",
     "output_type": "stream",
     "text": [
      "[42  2  3  4  5]\n",
      "[1 2 3 4 5]\n"
     ]
    }
   ],
   "source": [
    "#4 Making a copy of a numpy \n",
    "import numpy as np\n",
    "a = np.array([1, 2, 3, 4, 5])\n",
    "x = a.copy()\n",
    "a[0] = 42\n",
    "\n",
    "print(a)\n",
    "print(x)"
   ]
  },
  {
   "cell_type": "code",
   "execution_count": 4,
   "id": "129ac0ed",
   "metadata": {},
   "outputs": [
    {
     "name": "stdout",
     "output_type": "stream",
     "text": [
      "[42  2  3  4  5]\n",
      "[42  2  3  4  5]\n"
     ]
    }
   ],
   "source": [
    "#5 Making a view of a numpy\n",
    "import numpy as np\n",
    "\n",
    "arr = np.array([1, 2, 3, 4, 5])\n",
    "x = arr.view()\n",
    "arr[0] = 42\n",
    "\n",
    "print(arr)\n",
    "print(x)"
   ]
  },
  {
   "cell_type": "code",
   "execution_count": 5,
   "id": "266de4ab",
   "metadata": {},
   "outputs": [
    {
     "name": "stdout",
     "output_type": "stream",
     "text": [
      "None\n",
      "[3 4 6 7 8]\n"
     ]
    }
   ],
   "source": [
    "#6 Checking if array owns it's data\n",
    "import numpy as np\n",
    "a = np.array([3,4,6,7,8])\n",
    "x = a.copy()\n",
    "y = a.view()\n",
    "\n",
    "print(x.base)\n",
    "print(y.base)\n"
   ]
  },
  {
   "cell_type": "code",
   "execution_count": 6,
   "id": "b4154ebd",
   "metadata": {},
   "outputs": [
    {
     "name": "stdout",
     "output_type": "stream",
     "text": [
      "(2, 4)\n"
     ]
    }
   ],
   "source": [
    "#7 checking shape of an array\n",
    "import numpy as np\n",
    "\n",
    "arr = np.array([[1, 2, 3, 4], [5, 6, 7, 8]])\n",
    "\n",
    "print(arr.shape)"
   ]
  },
  {
   "cell_type": "code",
   "execution_count": 8,
   "id": "748c66bf",
   "metadata": {},
   "outputs": [
    {
     "name": "stdout",
     "output_type": "stream",
     "text": [
      "[[[[[1 2 3 4]]]]]\n",
      "(1, 1, 1, 1, 4)\n"
     ]
    }
   ],
   "source": [
    "#8 Creating array with defined dimension\n",
    "import numpy as np\n",
    "x = np.array([1,2,3,4], ndmin = 5)\n",
    "print (x)\n",
    "print (x.shape)\n"
   ]
  },
  {
   "cell_type": "code",
   "execution_count": 10,
   "id": "0b49e340",
   "metadata": {},
   "outputs": [
    {
     "name": "stdout",
     "output_type": "stream",
     "text": [
      "[[ 1  2  3]\n",
      " [ 4  5  6]\n",
      " [ 7  8  9]\n",
      " [12 12 13]]\n"
     ]
    }
   ],
   "source": [
    "#9 Reshaping an array\n",
    "import numpy as np\n",
    "d = np.array([1,2,3,4,5,6,7,8,9,12,12,13])\n",
    "p = d.reshape(4,3)#reshaping into dimension with 4 arrays with 3 eelements each\n",
    "print (p)"
   ]
  },
  {
   "cell_type": "code",
   "execution_count": 13,
   "id": "9fa700c5",
   "metadata": {},
   "outputs": [
    {
     "name": "stdout",
     "output_type": "stream",
     "text": [
      "2\n",
      "[2 3 4 5 7 9]\n"
     ]
    }
   ],
   "source": [
    "#10 Flattening an array, converting multidimensional array into a 1d array\n",
    "import numpy as np\n",
    "x = np.array([[2,3,4],[5,7,9]])\n",
    "print (x.ndim)\n",
    "z = x.reshape(-1)\n",
    "print (z)"
   ]
  },
  {
   "cell_type": "code",
   "execution_count": 18,
   "id": "396d2993",
   "metadata": {},
   "outputs": [
    {
     "name": "stdout",
     "output_type": "stream",
     "text": [
      "4\n",
      "5\n",
      "7\n",
      "8\n",
      "5\n",
      "6\n",
      "7\n",
      "9\n"
     ]
    }
   ],
   "source": [
    "#11 iterating arrays\n",
    "import numpy as np\n",
    "c = np.array([[4,5,7,8],[5,6,7,9]])\n",
    "for b in c:\n",
    "    for q in b:\n",
    "        print(q)"
   ]
  },
  {
   "cell_type": "code",
   "execution_count": 28,
   "id": "a44b2328",
   "metadata": {},
   "outputs": [
    {
     "name": "stdout",
     "output_type": "stream",
     "text": [
      "4\n",
      "5\n",
      "6\n",
      "7\n",
      "9\n",
      "10\n",
      "3\n",
      "8\n"
     ]
    }
   ],
   "source": [
    "#12 ndditer function, a helping function that solves basic issues in iteration\n",
    "import numpy as np\n",
    "v = np.array([[[4,5,],[6,7]],[[9,10],[3,8]]])\n",
    "for x in np.nditer(v):\n",
    "    print (x)"
   ]
  },
  {
   "cell_type": "code",
   "execution_count": 36,
   "id": "176966a7",
   "metadata": {},
   "outputs": [
    {
     "name": "stdout",
     "output_type": "stream",
     "text": [
      "b'1'\n",
      "b'2'\n",
      "b'4'\n"
     ]
    }
   ],
   "source": [
    "#13 op_dtypes, passes expected datatype while iterating\n",
    "import numpy as np\n",
    "t = np.array([1,2,4])\n",
    "for x in np.nditer(t, flags=['buffered'], op_dtypes=['S']):\n",
    "    print(x)"
   ]
  },
  {
   "cell_type": "code",
   "execution_count": 39,
   "id": "35d6c05f",
   "metadata": {},
   "outputs": [
    {
     "name": "stdout",
     "output_type": "stream",
     "text": [
      "(0,) 1\n",
      "(1,) 2\n",
      "(2,) 3\n"
     ]
    }
   ],
   "source": [
    "#14 enumerated iteration using ndemnumerate()\n",
    "import numpy as np\n",
    "d = np.array([1,2,3])\n",
    "for idx, x in np.ndenumerate(d):\n",
    "    print(idx, x)"
   ]
  },
  {
   "cell_type": "code",
   "execution_count": 40,
   "id": "83d15b05",
   "metadata": {},
   "outputs": [
    {
     "name": "stdout",
     "output_type": "stream",
     "text": [
      "[1 2 3 4 5 6]\n"
     ]
    }
   ],
   "source": [
    "#15 concatenatee function; to join numpy arrays\n",
    "import numpy as np\n",
    "arr1 = np.array([1,2,3])\n",
    "arr2 = np.array([4,5,6])\n",
    "arr = np.concatenate((arr1,arr2))\n",
    "print(arr)"
   ]
  },
  {
   "cell_type": "code",
   "execution_count": 41,
   "id": "8b192228",
   "metadata": {},
   "outputs": [
    {
     "name": "stdout",
     "output_type": "stream",
     "text": [
      "[[1 4]\n",
      " [2 5]\n",
      " [3 6]]\n"
     ]
    }
   ],
   "source": [
    "#16 stack function, same as concatenation yet done along a new axis\n",
    "import numpy as np\n",
    "arr1 = np.array([1,2,3])\n",
    "arr2 = np.array ([4,5,6])\n",
    "arr = np.stack((arr1,arr2),axis=1)\n",
    "print (arr)"
   ]
  },
  {
   "cell_type": "code",
   "execution_count": 43,
   "id": "9159777d",
   "metadata": {},
   "outputs": [
    {
     "name": "stdout",
     "output_type": "stream",
     "text": [
      "[1 2 3 4 5 6]\n"
     ]
    }
   ],
   "source": [
    "#17 horizontal stack function, stacks along rows\n",
    "import numpy as np\n",
    "arr1 = np.array([1,2,3])\n",
    "arr2 = np.array([4,5,6])\n",
    "arr = np.hstack((arr1,arr2))\n",
    "print (arr)"
   ]
  },
  {
   "cell_type": "code",
   "execution_count": 44,
   "id": "8216596d",
   "metadata": {},
   "outputs": [
    {
     "name": "stdout",
     "output_type": "stream",
     "text": [
      "[[1 2 3]\n",
      " [4 5 6]]\n"
     ]
    }
   ],
   "source": [
    "#18 Vertical stack function, stacks along columns\n",
    "import numpy as np\n",
    "arr1 = np.array ([1,2,3])\n",
    "arr2 = np.array([4,5,6])\n",
    "arr = np.vstack((arr1,arr2))\n",
    "print(arr)\n"
   ]
  },
  {
   "cell_type": "code",
   "execution_count": 47,
   "id": "027119b5",
   "metadata": {},
   "outputs": [
    {
     "name": "stdout",
     "output_type": "stream",
     "text": [
      "[array([1, 2]), array([3, 4]), array([5])]\n"
     ]
    }
   ],
   "source": [
    "#19 splitting, reverse of joining\n",
    "import numpy as np\n",
    "arr = np.array([1,2,3,4,5])\n",
    "z = np.array_split(arr,3)\n",
    "print (z)"
   ]
  },
  {
   "cell_type": "code",
   "execution_count": 49,
   "id": "d3a68201",
   "metadata": {},
   "outputs": [
    {
     "name": "stdout",
     "output_type": "stream",
     "text": [
      "(array([3, 6, 8], dtype=int64),)\n"
     ]
    }
   ],
   "source": [
    "#20search function. search for array with certain value\n",
    "import numpy as np\n",
    "arr = np.array([1,2,3,4,5,6,4,6,4])\n",
    "x =np.where(arr==4)\n",
    "print(x)"
   ]
  },
  {
   "cell_type": "code",
   "execution_count": null,
   "id": "5817c091",
   "metadata": {},
   "outputs": [],
   "source": []
  },
  {
   "cell_type": "code",
   "execution_count": null,
   "id": "556691d0",
   "metadata": {},
   "outputs": [],
   "source": []
  }
 ],
 "metadata": {
  "kernelspec": {
   "display_name": "Python 3 (ipykernel)",
   "language": "python",
   "name": "python3"
  },
  "language_info": {
   "codemirror_mode": {
    "name": "ipython",
    "version": 3
   },
   "file_extension": ".py",
   "mimetype": "text/x-python",
   "name": "python",
   "nbconvert_exporter": "python",
   "pygments_lexer": "ipython3",
   "version": "3.9.12"
  }
 },
 "nbformat": 4,
 "nbformat_minor": 5
}
